{
 "cells": [
  {
   "cell_type": "code",
   "execution_count": 1,
   "id": "5b81f4ab",
   "metadata": {},
   "outputs": [],
   "source": [
    "import pandas as pd\n",
    "import re"
   ]
  },
  {
   "cell_type": "code",
   "execution_count": 13,
   "id": "b11c5bfe",
   "metadata": {},
   "outputs": [
    {
     "data": {
      "text/plain": [
       "['CO2Fluegas']"
      ]
     },
     "execution_count": 13,
     "metadata": {},
     "output_type": "execute_result"
    }
   ],
   "source": [
    "df_ConvTech = pd.read_excel(\"reFuel_TechDatabase.xlsx\", sheet_name=\"ConvTech\", header = 2, usecols=\"F,Z\")\n",
    "df_ConvTech.columns = [\"ID\",\"Carriers\"]\n",
    "df_ConvTech = df_ConvTech.dropna(subset = \"ID\")\n",
    "\n",
    "df_Carriers = pd.read_excel(\"reFuel_TechDatabase.xlsx\", sheet_name=\"Carrier\", header = 1, usecols=\"A\")\n",
    "df_Carriers = df_Carriers.dropna()\n",
    "df_Carriers.columns = [\"Carriers\"]\n",
    "\n",
    "carrier_set = set(df_Carriers[\"Carriers\"].str.strip())\n",
    "\n",
    "all_convtech_carriers = (\n",
    "    df_ConvTech[\"Carriers\"]\n",
    "    .str.split(\",\")                 # split by comma\n",
    "    .explode()                      # one carrier per row\n",
    "    .str.strip()                    # remove spaces\n",
    "    .dropna()\n",
    "    .unique()                       # keep unique names\n",
    ")\n",
    "\n",
    "missing_carriers = sorted([c for c in all_convtech_carriers if c not in carrier_set])\n",
    "\n",
    "missing_carriers\n",
    "\n"
   ]
  }
 ],
 "metadata": {
  "kernelspec": {
   "display_name": ".venv",
   "language": "python",
   "name": "python3"
  },
  "language_info": {
   "codemirror_mode": {
    "name": "ipython",
    "version": 3
   },
   "file_extension": ".py",
   "mimetype": "text/x-python",
   "name": "python",
   "nbconvert_exporter": "python",
   "pygments_lexer": "ipython3",
   "version": "3.13.5"
  }
 },
 "nbformat": 4,
 "nbformat_minor": 5
}
